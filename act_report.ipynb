{
 "cells": [
  {
   "cell_type": "markdown",
   "metadata": {},
   "source": [
    "# <center>Act Report</center>\n",
    "\n",
    "## <center>June 2019</center>"
   ]
  },
  {
   "cell_type": "markdown",
   "metadata": {},
   "source": [
    "\n",
    "\n",
    "### WeTweetDog is a popular twitter account about dog rating. It has a unique rating system include both numerator and denominator. It also comments dog in a humerous way that has over 4.8 millons followers. This popular account receives international coverage. \n",
    "\n",
    "<img src=\"WeRateDogs.jpg\">"
   ]
  },
  {
   "cell_type": "markdown",
   "metadata": {},
   "source": [
    "###  The datasets include Udacity Data Analyst nanodegree provided twitter achive data and image prediction data. I also performed Twitter API query to get favorite and retweet count data. Quite some interesting things are learned from this data wrangling and exploring effort. "
   ]
  },
  {
   "cell_type": "markdown",
   "metadata": {},
   "source": [
    "### The final dataset after cleaning contains 2173 original tweets from 2015 Nov to 2017 Aug. With different dog stages, they receive average rating from 1 to 1.2. Among five dog stages,  puppo and floofer got highest rating aroudn 1.2. \n",
    "\n",
    "<img src=\"Average Dog Rating.png\">"
   ]
  },
  {
   "cell_type": "markdown",
   "metadata": {},
   "source": [
    "### We also found that they are quite some popular names in dogtweet. Charlie, Lucy, Oliver and Copper are most popular three names.\n",
    "\n",
    "<img src='10 Most Popular Dog Names.png'>"
   ]
  },
  {
   "cell_type": "markdown",
   "metadata": {},
   "source": [
    "### Dogs with numerator rating of 13 or 14 normally receive higher retweet and favorite counts. When rating numerator is 0, it triggers high retweet and favorite. Users might be curious to find out why."
   ]
  },
  {
   "cell_type": "markdown",
   "metadata": {},
   "source": [
    "### The statistics below also show that people tend to tweet more about dog ratings during winter season.  The weather might not be good to walk dogs. People enjoy more to share their dog on social networks. In contrast, this tweet activity is lowest during nice summer time. \n",
    "\n",
    "<img src='DogTweet Activity Trend vs Season.png'>"
   ]
  },
  {
   "cell_type": "markdown",
   "metadata": {},
   "source": [
    "### It is interesting to find that dominant dog tweet user are from Iphone platform. \n",
    "\n",
    "<img src='DogTweet Source Platform1.png'>"
   ]
  },
  {
   "cell_type": "markdown",
   "metadata": {},
   "source": [
    "### In the end, i would like to show the tweet with highest favorite count  (161825) from this time period. \n",
    "\n",
    "\n",
    "<img src='Favorite Tweet1.jpg'>"
   ]
  },
  {
   "cell_type": "code",
   "execution_count": null,
   "metadata": {
    "collapsed": true
   },
   "outputs": [],
   "source": []
  }
 ],
 "metadata": {
  "kernelspec": {
   "display_name": "Python 3",
   "language": "python",
   "name": "python3"
  },
  "language_info": {
   "codemirror_mode": {
    "name": "ipython",
    "version": 3
   },
   "file_extension": ".py",
   "mimetype": "text/x-python",
   "name": "python",
   "nbconvert_exporter": "python",
   "pygments_lexer": "ipython3",
   "version": "3.6.8"
  }
 },
 "nbformat": 4,
 "nbformat_minor": 2
}
